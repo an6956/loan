{
 "cells": [
  {
   "cell_type": "code",
   "execution_count": null,
   "id": "15a42923",
   "metadata": {},
   "outputs": [],
   "source": [
    "from tkinter import *\n",
    "master = Tk()\n",
    "Label(master, text='Annual Rate').grid(row=0)\n",
    "Label(master, text='Number of Payments').grid(row=1)\n",
    "Label(master, text='Loan Principle').grid(row=2)\n",
    "Label(master, text='Monthly Payment').grid(row=3)\n",
    "Label(master, text='Remaining Loan').grid(row=3)\n",
    "el = Entry(master)\n",
    "e2 = Entry(master)\n",
    "e3 = Entry(master)\n",
    "e4 = Entry(master)\n",
    "el.grid(row=0, column=1)\n",
    "e2.grid(row=1, column=1)\n",
    "e3.grid(row=2, column=1)\n",
    "e4.grid(row=3, column=1)\n",
    "fb = Button(master, text = 'Final Balance', fg = 'black')\n",
    "fb.grid(row=6, column=0)\n",
    "mp = Button(master, text = 'Monthly Payment', fg='black')\n",
    "mp.grid(row=6,column=1)\n",
    "qt = Button(master, text = 'Quit', fg = 'black')\n",
    "qt.grid(row=6,column=2)\n",
    "mainloop()\n"
   ]
  },
  {
   "cell_type": "code",
   "execution_count": null,
   "id": "27c3ad2d",
   "metadata": {},
   "outputs": [],
   "source": []
  }
 ],
 "metadata": {
  "kernelspec": {
   "display_name": "Python 3 (ipykernel)",
   "language": "python",
   "name": "python3"
  },
  "language_info": {
   "codemirror_mode": {
    "name": "ipython",
    "version": 3
   },
   "file_extension": ".py",
   "mimetype": "text/x-python",
   "name": "python",
   "nbconvert_exporter": "python",
   "pygments_lexer": "ipython3",
   "version": "3.9.13"
  }
 },
 "nbformat": 4,
 "nbformat_minor": 5
}
